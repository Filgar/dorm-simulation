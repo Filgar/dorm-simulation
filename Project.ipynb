{
 "cells": [
  {
   "cell_type": "code",
   "execution_count": 1,
   "id": "0155296e",
   "metadata": {},
   "outputs": [
    {
     "name": "stdout",
     "output_type": "stream",
     "text": [
      "pygame 2.6.1 (SDL 2.28.4, Python 3.12.7)\n",
      "Hello from the pygame community. https://www.pygame.org/contribute.html\n"
     ]
    }
   ],
   "source": [
    "import pygame"
   ]
  },
  {
   "cell_type": "code",
   "execution_count": 2,
   "id": "5b713d86",
   "metadata": {},
   "outputs": [],
   "source": [
    "from core.elements.dormitory import Dormitory\n",
    "from core.elements.student import Student\n",
    "from core.elements.floor import Floor\n",
    "from core.elements.room import Room\n",
    "\n",
    "from core.engine.state_processor import StateProcessor\n",
    "\n",
    "from frontend.pygame_manager import PygameManager"
   ]
  },
  {
   "cell_type": "code",
   "execution_count": null,
   "id": "72e60bba",
   "metadata": {},
   "outputs": [
    {
     "name": "stdout",
     "output_type": "stream",
     "text": [
      "Drawing took 0.08156299591064453 seconds\n",
      "time:  24\n",
      "time:  24\n",
      "Drawing took 0.06862807273864746 seconds\n",
      "time:  24\n",
      "Drawing took 0.06429481506347656 seconds\n",
      "time:  25\n",
      "Drawing took 0.06660676002502441 seconds\n",
      "time:  26\n",
      "Drawing took 0.0662393569946289 seconds\n",
      "time:  27\n",
      "Drawing took 0.0662832260131836 seconds\n",
      "time:  28\n",
      "time:  28\n",
      "Drawing took 0.06637334823608398 seconds\n",
      "time:  29\n",
      "time:  29\n",
      "time:  29\n",
      "time:  29\n",
      "time:  29\n",
      "time:  29\n",
      "time:  29\n",
      "time:  29\n",
      "time:  29\n",
      "time:  29\n",
      "time:  29\n",
      "time:  29\n",
      "time:  29\n",
      "time:  29\n",
      "time:  29\n",
      "time:  29\n",
      "time:  29\n",
      "time:  29\n",
      "time:  29\n"
     ]
    }
   ],
   "source": [
    "dormitory = Dormitory()\n",
    "state_processor = StateProcessor(dormitory)\n",
    "\n",
    "pygame_manager = PygameManager()\n",
    "\n",
    "# Main game loop\n",
    "clock = pygame.time.Clock()\n",
    "tick = 2\n",
    "running = True\n",
    "paused = True\n",
    "manual = False\n",
    "time = 24\n",
    "\n",
    "is_exam_season = False\n",
    "\n",
    "pygame_manager.draw(dormitory, time, state_processor.exam_difficulty)\n",
    "while running:\n",
    "    for event in pygame.event.get():\n",
    "        if event.type == pygame.QUIT:\n",
    "            running = False\n",
    "        elif event.type == pygame.KEYDOWN:\n",
    "            if event.key == pygame.K_SPACE:\n",
    "                if manual:\n",
    "                    state_processor.iterate(is_exam_season)\n",
    "                    time += 1\n",
    "                    break\n",
    "                paused = not paused\n",
    "            else:\n",
    "                running = pygame_manager.handle_keydown(event, dormitory)\n",
    "        elif not paused and not manual:\n",
    "            state_processor.iterate(is_exam_season)\n",
    "            time += 1\n",
    "            break\n",
    "\n",
    "    pygame_manager.draw(dormitory, time, state_processor.exam_difficulty)\n",
    "    is_exam_season = (time // 24) % 7 == 0\n",
    "    print(\"time: \", time )\n",
    "    clock.tick(tick)\n",
    "    #pygame.time.delay(2500)\n",
    "    \n",
    "\n",
    "pygame.quit()"
   ]
  }
 ],
 "metadata": {
  "kernelspec": {
   "display_name": "Python 3",
   "language": "python",
   "name": "python3"
  },
  "language_info": {
   "codemirror_mode": {
    "name": "ipython",
    "version": 3
   },
   "file_extension": ".py",
   "mimetype": "text/x-python",
   "name": "python",
   "nbconvert_exporter": "python",
   "pygments_lexer": "ipython3",
   "version": "3.12.7"
  }
 },
 "nbformat": 4,
 "nbformat_minor": 5
}
