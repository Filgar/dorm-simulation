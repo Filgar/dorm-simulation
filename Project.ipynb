{
 "cells": [
  {
   "cell_type": "code",
   "execution_count": 1,
   "id": "0155296e",
   "metadata": {},
   "outputs": [
    {
     "name": "stdout",
     "output_type": "stream",
     "text": [
      "pygame 2.6.1 (SDL 2.28.4, Python 3.12.7)\n",
      "Hello from the pygame community. https://www.pygame.org/contribute.html\n"
     ]
    }
   ],
   "source": [
    "import pygame"
   ]
  },
  {
   "cell_type": "code",
   "execution_count": 2,
   "id": "5b713d86",
   "metadata": {},
   "outputs": [],
   "source": [
    "from core.elements.dormitory import Dormitory\n",
    "from core.elements.student import Student\n",
    "from core.elements.floor import Floor\n",
    "from core.elements.room import Room\n",
    "\n",
    "from frontend.pygame_manager import PygameManager"
   ]
  },
  {
   "cell_type": "code",
   "execution_count": 3,
   "id": "72e60bba",
   "metadata": {},
   "outputs": [
    {
     "ename": "AttributeError",
     "evalue": "module 'config' has no attribute 'PANEL_WIDTH'",
     "output_type": "error",
     "traceback": [
      "\u001b[0;31m---------------------------------------------------------------------------\u001b[0m",
      "\u001b[0;31mAttributeError\u001b[0m                            Traceback (most recent call last)",
      "Cell \u001b[0;32mIn[3], line 17\u001b[0m\n\u001b[1;32m     15\u001b[0m             pygame_manager\u001b[38;5;241m.\u001b[39mhandle_keydown(event)\n\u001b[1;32m     16\u001b[0m     \u001b[38;5;66;03m# Draw the current floor and UI\u001b[39;00m\n\u001b[0;32m---> 17\u001b[0m     \u001b[43mpygame_manager\u001b[49m\u001b[38;5;241;43m.\u001b[39;49m\u001b[43mdraw\u001b[49m\u001b[43m(\u001b[49m\u001b[43mdormitory\u001b[49m\u001b[43m)\u001b[49m\n\u001b[1;32m     18\u001b[0m     clock\u001b[38;5;241m.\u001b[39mtick(\u001b[38;5;241m30\u001b[39m)\n\u001b[1;32m     20\u001b[0m pygame\u001b[38;5;241m.\u001b[39mquit()\n",
      "File \u001b[0;32m~/Desktop/uczelnia/agent_systems/dorm-simulation/frontend/pygame_manager.py:51\u001b[0m, in \u001b[0;36mPygameManager.draw\u001b[0;34m(self, dormitory)\u001b[0m\n\u001b[1;32m     49\u001b[0m \u001b[38;5;28mself\u001b[39m\u001b[38;5;241m.\u001b[39mscreen\u001b[38;5;241m.\u001b[39mfill(config\u001b[38;5;241m.\u001b[39mBLACK)\n\u001b[1;32m     50\u001b[0m \u001b[38;5;28mself\u001b[39m\u001b[38;5;241m.\u001b[39mdraw_dormitory(dormitory)\n\u001b[0;32m---> 51\u001b[0m \u001b[38;5;28;43mself\u001b[39;49m\u001b[38;5;241;43m.\u001b[39;49m\u001b[43muser_panel\u001b[49m\u001b[38;5;241;43m.\u001b[39;49m\u001b[43mdraw\u001b[49m\u001b[43m(\u001b[49m\u001b[38;5;28;43mself\u001b[39;49m\u001b[38;5;241;43m.\u001b[39;49m\u001b[43mscreen\u001b[49m\u001b[43m,\u001b[49m\u001b[43m \u001b[49m\u001b[43mdormitory\u001b[49m\u001b[43m)\u001b[49m\n\u001b[1;32m     52\u001b[0m pygame\u001b[38;5;241m.\u001b[39mdisplay\u001b[38;5;241m.\u001b[39mflip()\n",
      "File \u001b[0;32m~/Desktop/uczelnia/agent_systems/dorm-simulation/frontend/user_panel.py:16\u001b[0m, in \u001b[0;36mUserPanel.draw\u001b[0;34m(self, screen, dormitory)\u001b[0m\n\u001b[1;32m     14\u001b[0m \u001b[38;5;28;01mdef\u001b[39;00m \u001b[38;5;21mdraw\u001b[39m(\u001b[38;5;28mself\u001b[39m, screen, dormitory):\n\u001b[1;32m     15\u001b[0m     \u001b[38;5;66;03m# Draw the panel for displaying the current floor\u001b[39;00m\n\u001b[0;32m---> 16\u001b[0m     pygame\u001b[38;5;241m.\u001b[39mdraw\u001b[38;5;241m.\u001b[39mrect(screen, config\u001b[38;5;241m.\u001b[39mLIGHT_GRAY, (config\u001b[38;5;241m.\u001b[39mSCREEN_WIDTH \u001b[38;5;241m-\u001b[39m \u001b[43mconfig\u001b[49m\u001b[38;5;241;43m.\u001b[39;49m\u001b[43mPANEL_WIDTH\u001b[49m, \u001b[38;5;241m0\u001b[39m, config\u001b[38;5;241m.\u001b[39mPANEL_WIDTH, config\u001b[38;5;241m.\u001b[39mSCREEN_HEIGHT))\n\u001b[1;32m     17\u001b[0m     pygame\u001b[38;5;241m.\u001b[39mdraw\u001b[38;5;241m.\u001b[39mrect(screen, config\u001b[38;5;241m.\u001b[39mBLACK, (config\u001b[38;5;241m.\u001b[39mSCREEN_WIDTH \u001b[38;5;241m-\u001b[39m config\u001b[38;5;241m.\u001b[39mPANEL_WIDTH, \u001b[38;5;241m0\u001b[39m, config\u001b[38;5;241m.\u001b[39mPANEL_WIDTH, config\u001b[38;5;241m.\u001b[39mSCREEN_HEIGHT), \u001b[38;5;241m2\u001b[39m)\n\u001b[1;32m     19\u001b[0m     font \u001b[38;5;241m=\u001b[39m pygame\u001b[38;5;241m.\u001b[39mfont\u001b[38;5;241m.\u001b[39mSysFont(\u001b[38;5;124m\"\u001b[39m\u001b[38;5;124mArial\u001b[39m\u001b[38;5;124m\"\u001b[39m, \u001b[38;5;241m24\u001b[39m)\n",
      "\u001b[0;31mAttributeError\u001b[0m: module 'config' has no attribute 'PANEL_WIDTH'"
     ]
    }
   ],
   "source": [
    "num_floors = 10\n",
    "num_rooms_per_floor = 8\n",
    "dormitory = Dormitory(num_floors, num_rooms_per_floor)\n",
    "\n",
    "pygame_manager = PygameManager()\n",
    "\n",
    "# Main game loop\n",
    "clock = pygame.time.Clock()\n",
    "running = True\n",
    "while running:\n",
    "    for event in pygame.event.get():\n",
    "        if event.type == pygame.QUIT:\n",
    "            running = False\n",
    "        elif event.type == pygame.KEYDOWN:\n",
    "            pygame_manager.handle_keydown(event)\n",
    "    # Draw the current floor and UI\n",
    "    pygame_manager.draw(dormitory)\n",
    "    clock.tick(30)\n",
    "\n",
    "pygame.quit()"
   ]
  }
 ],
 "metadata": {
  "kernelspec": {
   "display_name": "Python 3",
   "language": "python",
   "name": "python3"
  },
  "language_info": {
   "codemirror_mode": {
    "name": "ipython",
    "version": 3
   },
   "file_extension": ".py",
   "mimetype": "text/x-python",
   "name": "python",
   "nbconvert_exporter": "python",
   "pygments_lexer": "ipython3",
   "version": "3.12.7"
  }
 },
 "nbformat": 4,
 "nbformat_minor": 5
}
