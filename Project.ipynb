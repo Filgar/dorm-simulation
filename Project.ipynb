{
 "cells": [
  {
   "cell_type": "code",
   "execution_count": 1,
   "id": "0155296e",
   "metadata": {},
   "outputs": [
    {
     "name": "stdout",
     "output_type": "stream",
     "text": [
      "pygame 2.6.1 (SDL 2.28.4, Python 3.12.7)\n",
      "Hello from the pygame community. https://www.pygame.org/contribute.html\n"
     ]
    }
   ],
   "source": [
    "import pygame"
   ]
  },
  {
   "cell_type": "code",
   "execution_count": 2,
   "id": "5b713d86",
   "metadata": {},
   "outputs": [],
   "source": [
    "from core.elements.dormitory import Dormitory\n",
    "from core.elements.student import Student\n",
    "from core.elements.floor import Floor\n",
    "from core.elements.room import Room\n",
    "\n",
    "from frontend.pygame_manager import PygameManager"
   ]
  },
  {
   "cell_type": "code",
   "execution_count": 3,
   "id": "72e60bba",
   "metadata": {},
   "outputs": [],
   "source": [
    "dormitory = Dormitory()\n",
    "\n",
    "pygame_manager = PygameManager()\n",
    "\n",
    "# Main game loop\n",
    "clock = pygame.time.Clock()\n",
    "running = True\n",
    "while running:\n",
    "    for event in pygame.event.get():\n",
    "        if event.type == pygame.QUIT:\n",
    "            running = False\n",
    "        elif event.type == pygame.KEYDOWN:\n",
    "            running = pygame_manager.handle_keydown(event, dormitory)\n",
    "    pygame_manager.draw(dormitory)\n",
    "    clock.tick(10)\n",
    "\n",
    "pygame.quit()"
   ]
  }
 ],
 "metadata": {
  "kernelspec": {
   "display_name": "Python 3",
   "language": "python",
   "name": "python3"
  },
  "language_info": {
   "codemirror_mode": {
    "name": "ipython",
    "version": 3
   },
   "file_extension": ".py",
   "mimetype": "text/x-python",
   "name": "python",
   "nbconvert_exporter": "python",
   "pygments_lexer": "ipython3",
   "version": "3.12.7"
  }
 },
 "nbformat": 4,
 "nbformat_minor": 5
}
