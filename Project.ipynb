{
 "cells": [
  {
   "cell_type": "code",
   "execution_count": 1,
   "id": "0155296e",
   "metadata": {},
   "outputs": [
    {
     "name": "stdout",
     "output_type": "stream",
     "text": [
      "pygame 2.6.1 (SDL 2.28.4, Python 3.12.7)\n",
      "Hello from the pygame community. https://www.pygame.org/contribute.html\n"
     ]
    }
   ],
   "source": [
    "import pygame"
   ]
  },
  {
   "cell_type": "code",
   "execution_count": 2,
   "id": "5b713d86",
   "metadata": {},
   "outputs": [],
   "source": [
    "from core.elements.dormitory import Dormitory\n",
    "from core.elements.student import Student\n",
    "from core.elements.floor import Floor\n",
    "from core.elements.room import Room\n",
    "\n",
    "from frontend.pygame_manager import PygameManager"
   ]
  },
  {
   "cell_type": "code",
   "execution_count": 3,
   "id": "72e60bba",
   "metadata": {},
   "outputs": [
    {
     "ename": "AttributeError",
     "evalue": "'Student' object has no attribute 'room_number'",
     "output_type": "error",
     "traceback": [
      "\u001b[0;31m---------------------------------------------------------------------------\u001b[0m",
      "\u001b[0;31mAttributeError\u001b[0m                            Traceback (most recent call last)",
      "Cell \u001b[0;32mIn[3], line 16\u001b[0m\n\u001b[1;32m     14\u001b[0m         \u001b[38;5;28;01melif\u001b[39;00m event\u001b[38;5;241m.\u001b[39mtype \u001b[38;5;241m==\u001b[39m pygame\u001b[38;5;241m.\u001b[39mKEYDOWN:\n\u001b[1;32m     15\u001b[0m             running \u001b[38;5;241m=\u001b[39m pygame_manager\u001b[38;5;241m.\u001b[39mhandle_keydown(event)\n\u001b[0;32m---> 16\u001b[0m     \u001b[43mpygame_manager\u001b[49m\u001b[38;5;241;43m.\u001b[39;49m\u001b[43mdraw\u001b[49m\u001b[43m(\u001b[49m\u001b[43mdormitory\u001b[49m\u001b[43m)\u001b[49m\n\u001b[1;32m     17\u001b[0m     clock\u001b[38;5;241m.\u001b[39mtick(\u001b[38;5;241m10\u001b[39m)\n\u001b[1;32m     19\u001b[0m pygame\u001b[38;5;241m.\u001b[39mquit()\n",
      "File \u001b[0;32m~/Desktop/uczelnia/agent_systems/dorm-simulation/frontend/pygame_manager.py:50\u001b[0m, in \u001b[0;36mPygameManager.draw\u001b[0;34m(self, dormitory)\u001b[0m\n\u001b[1;32m     48\u001b[0m \u001b[38;5;28;01mdef\u001b[39;00m \u001b[38;5;21mdraw\u001b[39m(\u001b[38;5;28mself\u001b[39m, dormitory):\n\u001b[1;32m     49\u001b[0m     \u001b[38;5;28mself\u001b[39m\u001b[38;5;241m.\u001b[39mscreen\u001b[38;5;241m.\u001b[39mfill(config\u001b[38;5;241m.\u001b[39mBLACK)\n\u001b[0;32m---> 50\u001b[0m     \u001b[38;5;28;43mself\u001b[39;49m\u001b[38;5;241;43m.\u001b[39;49m\u001b[43mdraw_dormitory\u001b[49m\u001b[43m(\u001b[49m\u001b[43mdormitory\u001b[49m\u001b[43m)\u001b[49m\n\u001b[1;32m     51\u001b[0m     \u001b[38;5;28mself\u001b[39m\u001b[38;5;241m.\u001b[39muser_panel\u001b[38;5;241m.\u001b[39mdraw(\u001b[38;5;28mself\u001b[39m\u001b[38;5;241m.\u001b[39mscreen, dormitory)\n\u001b[1;32m     52\u001b[0m     pygame\u001b[38;5;241m.\u001b[39mdisplay\u001b[38;5;241m.\u001b[39mflip()\n",
      "File \u001b[0;32m~/Desktop/uczelnia/agent_systems/dorm-simulation/frontend/pygame_manager.py:32\u001b[0m, in \u001b[0;36mPygameManager.draw_dormitory\u001b[0;34m(self, dormitory)\u001b[0m\n\u001b[1;32m     29\u001b[0m     \u001b[38;5;28mself\u001b[39m\u001b[38;5;241m.\u001b[39mdraw_room(room)\n\u001b[1;32m     31\u001b[0m \u001b[38;5;28;01mfor\u001b[39;00m student \u001b[38;5;129;01min\u001b[39;00m floor\u001b[38;5;241m.\u001b[39mstudents:\n\u001b[0;32m---> 32\u001b[0m     \u001b[38;5;28;43mself\u001b[39;49m\u001b[38;5;241;43m.\u001b[39;49m\u001b[43mdraw_student\u001b[49m\u001b[43m(\u001b[49m\u001b[43mstudent\u001b[49m\u001b[43m,\u001b[49m\u001b[43m \u001b[49m\u001b[43mdormitory\u001b[49m\u001b[43m)\u001b[49m\n",
      "File \u001b[0;32m~/Desktop/uczelnia/agent_systems/dorm-simulation/frontend/pygame_manager.py:35\u001b[0m, in \u001b[0;36mPygameManager.draw_student\u001b[0;34m(self, student, dormitory)\u001b[0m\n\u001b[1;32m     34\u001b[0m \u001b[38;5;28;01mdef\u001b[39;00m \u001b[38;5;21mdraw_student\u001b[39m(\u001b[38;5;28mself\u001b[39m, student, dormitory):\n\u001b[0;32m---> 35\u001b[0m     room \u001b[38;5;241m=\u001b[39m dormitory\u001b[38;5;241m.\u001b[39mfloors[dormitory\u001b[38;5;241m.\u001b[39mcurrent_floor]\u001b[38;5;241m.\u001b[39mrooms[\u001b[43mstudent\u001b[49m\u001b[38;5;241;43m.\u001b[39;49m\u001b[43mroom_number\u001b[49m]\n\u001b[1;32m     36\u001b[0m     student_num \u001b[38;5;241m=\u001b[39m student\u001b[38;5;241m.\u001b[39mname\u001b[38;5;241m.\u001b[39msplit(\u001b[38;5;124m'\u001b[39m\u001b[38;5;124m_\u001b[39m\u001b[38;5;124m'\u001b[39m)[\u001b[38;5;241m0\u001b[39m]\n\u001b[1;32m     37\u001b[0m     bed_pos \u001b[38;5;241m=\u001b[39m room\u001b[38;5;241m.\u001b[39mbeds[\u001b[38;5;241m0\u001b[39m] \u001b[38;5;28;01mif\u001b[39;00m student_num \u001b[38;5;241m==\u001b[39m \u001b[38;5;124m'\u001b[39m\u001b[38;5;124mStudent1\u001b[39m\u001b[38;5;124m'\u001b[39m \u001b[38;5;28;01melse\u001b[39;00m room\u001b[38;5;241m.\u001b[39mbeds[\u001b[38;5;241m1\u001b[39m]\n",
      "\u001b[0;31mAttributeError\u001b[0m: 'Student' object has no attribute 'room_number'"
     ]
    }
   ],
   "source": [
    "num_floors = 10\n",
    "num_rooms_per_floor = 8\n",
    "dormitory = Dormitory(num_floors, num_rooms_per_floor)\n",
    "\n",
    "pygame_manager = PygameManager()\n",
    "\n",
    "# Main game loop\n",
    "clock = pygame.time.Clock()\n",
    "running = True\n",
    "while running:\n",
    "    for event in pygame.event.get():\n",
    "        if event.type == pygame.QUIT:\n",
    "            running = False\n",
    "        elif event.type == pygame.KEYDOWN:\n",
    "            running = pygame_manager.handle_keydown(event)\n",
    "    pygame_manager.draw(dormitory)\n",
    "    clock.tick(10)\n",
    "\n",
    "pygame.quit()"
   ]
  }
 ],
 "metadata": {
  "kernelspec": {
   "display_name": "Python 3",
   "language": "python",
   "name": "python3"
  },
  "language_info": {
   "codemirror_mode": {
    "name": "ipython",
    "version": 3
   },
   "file_extension": ".py",
   "mimetype": "text/x-python",
   "name": "python",
   "nbconvert_exporter": "python",
   "pygments_lexer": "ipython3",
   "version": "3.12.7"
  }
 },
 "nbformat": 4,
 "nbformat_minor": 5
}
