{
 "cells": [
  {
   "cell_type": "code",
   "execution_count": 1,
   "id": "0155296e",
   "metadata": {},
   "outputs": [
    {
     "name": "stdout",
     "output_type": "stream",
     "text": [
      "pygame 2.5.1 (SDL 2.28.2, Python 3.11.1)\n",
      "Hello from the pygame community. https://www.pygame.org/contribute.html\n"
     ]
    }
   ],
   "source": [
    "import pygame"
   ]
  },
  {
   "cell_type": "code",
   "execution_count": 2,
   "id": "5b713d86",
   "metadata": {},
   "outputs": [],
   "source": [
    "from core.elements.dormitory import Dormitory\n",
    "\n",
    "from core.engine.state_processor import StateProcessor\n",
    "\n",
    "from frontend.pygame_manager import PygameManager"
   ]
  },
  {
   "cell_type": "code",
   "execution_count": 3,
   "id": "72e60bba",
   "metadata": {},
   "outputs": [],
   "source": [
    "dormitory = Dormitory()\n",
    "dormitory.select_room(0)\n",
    "state_processor = StateProcessor(dormitory)\n",
    "\n",
    "pygame_manager = PygameManager()\n",
    "\n",
    "clock = pygame.time.Clock()\n",
    "tick = 30\n",
    "running = True\n",
    "paused = True\n",
    "manual = False\n",
    "time = 24\n",
    "\n",
    "is_exam_season = False\n",
    "exams_ended = False\n",
    "\n",
    "pygame_manager.draw(dormitory, time, state_processor.exam_difficulty)\n",
    "while running:\n",
    "    for event in pygame.event.get():\n",
    "        if event.type == pygame.QUIT:\n",
    "            running = False\n",
    "        elif event.type == pygame.KEYDOWN:\n",
    "            if event.key == pygame.K_SPACE:\n",
    "                if manual:\n",
    "                    state_processor.iterate(is_exam_season)\n",
    "                    time += 1\n",
    "                paused = not paused\n",
    "            elif event.key == pygame.K_TAB:\n",
    "                manual = not manual\n",
    "                paused = manual\n",
    "            else:\n",
    "                running = pygame_manager.handle_keydown(event, dormitory)\n",
    "        elif event.type == pygame.MOUSEBUTTONDOWN:\n",
    "            pygame_manager.handle_keydown(event, dormitory)\n",
    "            tick = pygame_manager.tick\n",
    "    if not paused and not manual:\n",
    "        state_processor.iterate(is_exam_season)\n",
    "        time += 1\n",
    "\n",
    "    if exams_ended and not is_exam_season:\n",
    "        exams_ended = False\n",
    "        state_processor.setup_new_exam()\n",
    "        dormitory.finish_exam_session()\n",
    "        \n",
    "\n",
    "    exams_ended = is_exam_season\n",
    "    pygame_manager.draw(dormitory, time, state_processor.exam_difficulty)\n",
    "    is_exam_season = (time // 24) % 7 == 0\n",
    "\n",
    "    if time >= 7*25*7:   # 7 exam sessions\n",
    "        paused = True\n",
    "    clock.tick(tick)\n",
    "    \n",
    "\n",
    "pygame.quit()"
   ]
  }
 ],
 "metadata": {
  "kernelspec": {
   "display_name": "Python 3 (ipykernel)",
   "language": "python",
   "name": "python3"
  },
  "language_info": {
   "codemirror_mode": {
    "name": "ipython",
    "version": 3
   },
   "file_extension": ".py",
   "mimetype": "text/x-python",
   "name": "python",
   "nbconvert_exporter": "python",
   "pygments_lexer": "ipython3",
   "version": "3.11.1"
  }
 },
 "nbformat": 4,
 "nbformat_minor": 5
}
